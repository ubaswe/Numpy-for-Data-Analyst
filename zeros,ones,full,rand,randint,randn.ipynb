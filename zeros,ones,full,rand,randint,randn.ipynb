{
 "cells": [
  {
   "cell_type": "code",
   "execution_count": 1,
   "id": "5e8f10ed",
   "metadata": {},
   "outputs": [
    {
     "data": {
      "text/plain": [
       "array([0., 0., 0., 0., 0., 0., 0., 0., 0., 0., 0., 0., 0., 0., 0., 0.])"
      ]
     },
     "execution_count": 1,
     "metadata": {},
     "output_type": "execute_result"
    }
   ],
   "source": [
    "import numpy as np\n",
    "\n",
    "#1-D zeros and float\n",
    "np.zeros(16)"
   ]
  },
  {
   "cell_type": "code",
   "execution_count": 2,
   "id": "4bd6e2c9",
   "metadata": {},
   "outputs": [
    {
     "data": {
      "text/plain": [
       "array([[0., 0., 0., 0.],\n",
       "       [0., 0., 0., 0.],\n",
       "       [0., 0., 0., 0.],\n",
       "       [0., 0., 0., 0.]])"
      ]
     },
     "execution_count": 2,
     "metadata": {},
     "output_type": "execute_result"
    }
   ],
   "source": [
    "#2-D zeros that's why two (()) and float\n",
    "np.zeros((4,4))"
   ]
  },
  {
   "cell_type": "code",
   "execution_count": 34,
   "id": "481f750f",
   "metadata": {},
   "outputs": [
    {
     "data": {
      "text/plain": [
       "array([[[0, 0, 0, 0],\n",
       "        [0, 0, 0, 0],\n",
       "        [0, 0, 0, 0],\n",
       "        [0, 0, 0, 0]],\n",
       "\n",
       "       [[0, 0, 0, 0],\n",
       "        [0, 0, 0, 0],\n",
       "        [0, 0, 0, 0],\n",
       "        [0, 0, 0, 0]],\n",
       "\n",
       "       [[0, 0, 0, 0],\n",
       "        [0, 0, 0, 0],\n",
       "        [0, 0, 0, 0],\n",
       "        [0, 0, 0, 0]],\n",
       "\n",
       "       [[0, 0, 0, 0],\n",
       "        [0, 0, 0, 0],\n",
       "        [0, 0, 0, 0],\n",
       "        [0, 0, 0, 0]]])"
      ]
     },
     "execution_count": 34,
     "metadata": {},
     "output_type": "execute_result"
    }
   ],
   "source": [
    "#3-D zeros and coverted to int\n",
    "np.zeros((4,4,4),dtype=\"int32\")"
   ]
  },
  {
   "cell_type": "code",
   "execution_count": null,
   "id": "3c0982ee",
   "metadata": {},
   "outputs": [],
   "source": []
  },
  {
   "cell_type": "code",
   "execution_count": 35,
   "id": "cb4960f5",
   "metadata": {},
   "outputs": [
    {
     "data": {
      "text/plain": [
       "array([1., 1., 1., 1.])"
      ]
     },
     "execution_count": 35,
     "metadata": {},
     "output_type": "execute_result"
    }
   ],
   "source": [
    "#1-D one that's why one ()\n",
    "np.ones(4)"
   ]
  },
  {
   "cell_type": "code",
   "execution_count": 38,
   "id": "6c1b952b",
   "metadata": {},
   "outputs": [
    {
     "data": {
      "text/plain": [
       "array([[[1, 1, 1, 1],\n",
       "        [1, 1, 1, 1],\n",
       "        [1, 1, 1, 1],\n",
       "        [1, 1, 1, 1]],\n",
       "\n",
       "       [[1, 1, 1, 1],\n",
       "        [1, 1, 1, 1],\n",
       "        [1, 1, 1, 1],\n",
       "        [1, 1, 1, 1]],\n",
       "\n",
       "       [[1, 1, 1, 1],\n",
       "        [1, 1, 1, 1],\n",
       "        [1, 1, 1, 1],\n",
       "        [1, 1, 1, 1]],\n",
       "\n",
       "       [[1, 1, 1, 1],\n",
       "        [1, 1, 1, 1],\n",
       "        [1, 1, 1, 1],\n",
       "        [1, 1, 1, 1]]])"
      ]
     },
     "execution_count": 38,
     "metadata": {},
     "output_type": "execute_result"
    }
   ],
   "source": [
    "#3-D one that's why one (())\n",
    "np.ones((4,4,4),dtype=\"int32\")"
   ]
  },
  {
   "cell_type": "code",
   "execution_count": 39,
   "id": "386aaf79",
   "metadata": {},
   "outputs": [
    {
     "data": {
      "text/plain": [
       "array([[99, 99, 99, 99],\n",
       "       [99, 99, 99, 99],\n",
       "       [99, 99, 99, 99],\n",
       "       [99, 99, 99, 99]])"
      ]
     },
     "execution_count": 39,
     "metadata": {},
     "output_type": "execute_result"
    }
   ],
   "source": [
    "#Full\n",
    "np.full((4,4),99)"
   ]
  },
  {
   "cell_type": "code",
   "execution_count": 45,
   "id": "df1ae043",
   "metadata": {},
   "outputs": [
    {
     "data": {
      "text/plain": [
       "array([[77, 77, 77],\n",
       "       [77, 77, 77],\n",
       "       [77, 77, 77],\n",
       "       [77, 77, 77],\n",
       "       [77, 77, 77],\n",
       "       [77, 77, 77]])"
      ]
     },
     "execution_count": 45,
     "metadata": {},
     "output_type": "execute_result"
    }
   ],
   "source": [
    "np.full((6,3),77)"
   ]
  },
  {
   "cell_type": "code",
   "execution_count": 41,
   "id": "faf392c3",
   "metadata": {},
   "outputs": [
    {
     "data": {
      "text/plain": [
       "array([[0.75284358, 0.08375206],\n",
       "       [0.40662317, 0.63225936],\n",
       "       [0.6632167 , 0.78444531],\n",
       "       [0.19003542, 0.33824829]])"
      ]
     },
     "execution_count": 41,
     "metadata": {},
     "output_type": "execute_result"
    }
   ],
   "source": [
    "#rand is o to 1 random array but float\n",
    "np.random.rand(4,2)"
   ]
  },
  {
   "cell_type": "code",
   "execution_count": 44,
   "id": "cfd2adcc",
   "metadata": {},
   "outputs": [
    {
     "data": {
      "text/plain": [
       "array([[0.55407248, 0.93980532, 0.52397124, 0.80759122, 0.41917121],\n",
       "       [0.82563933, 0.79691765, 0.34624922, 0.67671731, 0.00924453],\n",
       "       [0.71029594, 0.28176119, 0.47926233, 0.81164452, 0.99597775],\n",
       "       [0.36104513, 0.82055876, 0.40257437, 0.80846126, 0.89904125],\n",
       "       [0.30124779, 0.07441666, 0.59223387, 0.19894788, 0.51596583],\n",
       "       [0.67296793, 0.56537532, 0.29922052, 0.36041068, 0.7008405 ]])"
      ]
     },
     "execution_count": 44,
     "metadata": {},
     "output_type": "execute_result"
    }
   ],
   "source": [
    "np.random.rand(6,5)"
   ]
  },
  {
   "cell_type": "code",
   "execution_count": 47,
   "id": "7cdc1663",
   "metadata": {},
   "outputs": [
    {
     "data": {
      "text/plain": [
       "array([ 9, 58, 30,  5, 34, 88, 53,  2, 29, 95])"
      ]
     },
     "execution_count": 47,
     "metadata": {},
     "output_type": "execute_result"
    }
   ],
   "source": [
    "#randit is int 1 is lower limt 100 is upper limit and quantity=10\n",
    "np.random.randint(1,100,10)"
   ]
  },
  {
   "cell_type": "code",
   "execution_count": 51,
   "id": "ff0beb74",
   "metadata": {},
   "outputs": [
    {
     "data": {
      "text/plain": [
       "array([[2, 2, 0],\n",
       "       [5, 4, 7],\n",
       "       [2, 4, 3]])"
      ]
     },
     "execution_count": 51,
     "metadata": {},
     "output_type": "execute_result"
    }
   ],
   "source": [
    "##randit is int -1 is lower limt 8 is upper limit and size \n",
    "np.random.randint(-1,8, size=(3,3))"
   ]
  },
  {
   "cell_type": "code",
   "execution_count": 52,
   "id": "41072d71",
   "metadata": {},
   "outputs": [
    {
     "data": {
      "text/plain": [
       "array([ 0.80702974,  0.89920765, -0.27379185, -0.18833877,  2.65696621,\n",
       "       -0.57816211, -2.08544799, -1.58484494,  0.1999795 ,  0.52610773,\n",
       "        0.72602917, -1.01479819, -0.77318583, -0.42765198, -0.53364462,\n",
       "        1.27317258, -0.43160653, -0.74703318, -0.58524011,  1.00341316])"
      ]
     },
     "execution_count": 52,
     "metadata": {},
     "output_type": "execute_result"
    }
   ],
   "source": [
    "#randn\n",
    "np.random.randn(20)"
   ]
  },
  {
   "cell_type": "code",
   "execution_count": 53,
   "id": "d6fcf39c",
   "metadata": {},
   "outputs": [
    {
     "data": {
      "text/plain": [
       "array([0.20499217, 0.98558032, 0.42986123, 0.28327099, 0.94894195,\n",
       "       0.90297716, 0.15109879, 0.87130474, 0.81591025, 0.62271196,\n",
       "       0.49889131, 0.24126932, 0.10139952, 0.25503407, 0.02669375,\n",
       "       0.48118796, 0.13553146, 0.74488607, 0.08169373, 0.97277721,\n",
       "       0.53258764, 0.54285708, 0.32390462, 0.46993247, 0.36487785,\n",
       "       0.26453805, 0.81742618, 0.35918629, 0.18225827, 0.94505188,\n",
       "       0.29510604, 0.9119228 , 0.94073095, 0.73530916, 0.47383881,\n",
       "       0.39990228, 0.87436296, 0.22654882, 0.03672111, 0.84155714,\n",
       "       0.23348351, 0.32452075, 0.01542248, 0.68655601, 0.91918032,\n",
       "       0.08096464, 0.24409619, 0.02184137, 0.58899607, 0.19883091])"
      ]
     },
     "execution_count": 53,
     "metadata": {},
     "output_type": "execute_result"
    }
   ],
   "source": [
    "np.random.random(50)"
   ]
  },
  {
   "cell_type": "code",
   "execution_count": 60,
   "id": "d0f116cd",
   "metadata": {},
   "outputs": [
    {
     "data": {
      "text/plain": [
       "(array([ 1.        ,  1.14141414,  1.28282828,  1.42424242,  1.56565657,\n",
       "         1.70707071,  1.84848485,  1.98989899,  2.13131313,  2.27272727,\n",
       "         2.41414141,  2.55555556,  2.6969697 ,  2.83838384,  2.97979798,\n",
       "         3.12121212,  3.26262626,  3.4040404 ,  3.54545455,  3.68686869,\n",
       "         3.82828283,  3.96969697,  4.11111111,  4.25252525,  4.39393939,\n",
       "         4.53535354,  4.67676768,  4.81818182,  4.95959596,  5.1010101 ,\n",
       "         5.24242424,  5.38383838,  5.52525253,  5.66666667,  5.80808081,\n",
       "         5.94949495,  6.09090909,  6.23232323,  6.37373737,  6.51515152,\n",
       "         6.65656566,  6.7979798 ,  6.93939394,  7.08080808,  7.22222222,\n",
       "         7.36363636,  7.50505051,  7.64646465,  7.78787879,  7.92929293,\n",
       "         8.07070707,  8.21212121,  8.35353535,  8.49494949,  8.63636364,\n",
       "         8.77777778,  8.91919192,  9.06060606,  9.2020202 ,  9.34343434,\n",
       "         9.48484848,  9.62626263,  9.76767677,  9.90909091, 10.05050505,\n",
       "        10.19191919, 10.33333333, 10.47474747, 10.61616162, 10.75757576,\n",
       "        10.8989899 , 11.04040404, 11.18181818, 11.32323232, 11.46464646,\n",
       "        11.60606061, 11.74747475, 11.88888889, 12.03030303, 12.17171717,\n",
       "        12.31313131, 12.45454545, 12.5959596 , 12.73737374, 12.87878788,\n",
       "        13.02020202, 13.16161616, 13.3030303 , 13.44444444, 13.58585859,\n",
       "        13.72727273, 13.86868687, 14.01010101, 14.15151515, 14.29292929,\n",
       "        14.43434343, 14.57575758, 14.71717172, 14.85858586, 15.        ]),\n",
       " 0.1414141414141414)"
      ]
     },
     "execution_count": 60,
     "metadata": {},
     "output_type": "execute_result"
    }
   ],
   "source": [
    "np.linspace(1,15,100,retstep=True)"
   ]
  },
  {
   "cell_type": "code",
   "execution_count": null,
   "id": "19c78672",
   "metadata": {},
   "outputs": [],
   "source": []
  }
 ],
 "metadata": {
  "kernelspec": {
   "display_name": "Python 3 (ipykernel)",
   "language": "python",
   "name": "python3"
  },
  "language_info": {
   "codemirror_mode": {
    "name": "ipython",
    "version": 3
   },
   "file_extension": ".py",
   "mimetype": "text/x-python",
   "name": "python",
   "nbconvert_exporter": "python",
   "pygments_lexer": "ipython3",
   "version": "3.11.5"
  }
 },
 "nbformat": 4,
 "nbformat_minor": 5
}
